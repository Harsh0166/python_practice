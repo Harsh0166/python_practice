{
  "nbformat": 4,
  "nbformat_minor": 0,
  "metadata": {
    "colab": {
      "provenance": [],
      "authorship_tag": "ABX9TyMei3WhDwbU7+mQOXTnvF08",
      "include_colab_link": true
    },
    "kernelspec": {
      "name": "python3",
      "display_name": "Python 3"
    },
    "language_info": {
      "name": "python"
    }
  },
  "cells": [
    {
      "cell_type": "markdown",
      "metadata": {
        "id": "view-in-github",
        "colab_type": "text"
      },
      "source": [
        "<a href=\"https://colab.research.google.com/github/Harsh0166/python_practice/blob/main/prime_number_in_a_given_interval.ipynb\" target=\"_parent\"><img src=\"https://colab.research.google.com/assets/colab-badge.svg\" alt=\"Open In Colab\"/></a>"
      ]
    },
    {
      "cell_type": "code",
      "execution_count": 27,
      "metadata": {
        "colab": {
          "base_uri": "https://localhost:8080/"
        },
        "id": "5V1q7d6tFKLy",
        "outputId": "b62adc59-52e7-4fea-beed-a203eca89234"
      },
      "outputs": [
        {
          "output_type": "stream",
          "name": "stdout",
          "text": [
            "enter the  number : 1\n",
            "enter the  number : 10\n",
            "prime no. are\n",
            "2\n",
            "3\n",
            "5\n",
            "7\n"
          ]
        }
      ],
      "source": [
        "a = int(input(\"enter the  number : \"))\n",
        "b = int(input(\"enter the  number : \"))\n",
        "print(\"prime no. are\")\n",
        "for i in range(a,b):\n",
        "  # if i<=1:\n",
        "  #   print(\"not a prime\",i)\n",
        "  if i>1:\n",
        "    for j in range(2,i):\n",
        "      if i%j == 0:\n",
        "        # print(\"not a prime\",i)\n",
        "        break\n",
        "    else:\n",
        "      print(i)"
      ]
    }
  ]
}