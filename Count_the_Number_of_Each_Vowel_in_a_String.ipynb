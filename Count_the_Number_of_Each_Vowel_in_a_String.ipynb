{
  "nbformat": 4,
  "nbformat_minor": 0,
  "metadata": {
    "colab": {
      "provenance": [],
      "authorship_tag": "ABX9TyMjiKq4tnj/jAo6rSN3RIS9",
      "include_colab_link": true
    },
    "kernelspec": {
      "name": "python3",
      "display_name": "Python 3"
    },
    "language_info": {
      "name": "python"
    }
  },
  "cells": [
    {
      "cell_type": "markdown",
      "metadata": {
        "id": "view-in-github",
        "colab_type": "text"
      },
      "source": [
        "<a href=\"https://colab.research.google.com/github/Harsh0166/python_practice/blob/main/Count_the_Number_of_Each_Vowel_in_a_String.ipynb\" target=\"_parent\"><img src=\"https://colab.research.google.com/assets/colab-badge.svg\" alt=\"Open In Colab\"/></a>"
      ]
    },
    {
      "cell_type": "code",
      "source": [
        "data = input(\"enter word : \").lower()\n",
        "li = list(data)\n",
        "count_a = 0\n",
        "count_e = 0\n",
        "count_i = 0\n",
        "count_o = 0\n",
        "count_u = 0\n",
        "\n",
        "for i in range(len(li)):\n",
        "  if li[i] == \"a\":\n",
        "    count_a += 1\n",
        "  elif li[i] == \"e\":\n",
        "    count_e += 1\n",
        "  elif li[i] == \"i\":\n",
        "    count_i += 1\n",
        "  elif li[i] == \"o\":\n",
        "    count_o += 1\n",
        "  elif li[i] == \"u\":\n",
        "    count_u += 1\n",
        "\n",
        "print(\"a :\", count_a)\n",
        "print(\"e :\",count_e)\n",
        "print(\"i :\",count_i)\n",
        "print(\"o :\",count_o)\n",
        "print(\"u :\",count_u)"
      ],
      "metadata": {
        "colab": {
          "base_uri": "https://localhost:8080/"
        },
        "id": "AkO7W5cnXOOh",
        "outputId": "3dea3e35-b0ec-465a-f7ba-1bd9bccf6dd8"
      },
      "execution_count": 22,
      "outputs": [
        {
          "output_type": "stream",
          "name": "stdout",
          "text": [
            "enter word : AAa\n",
            "a : 3\n",
            "e : 0\n",
            "i : 0\n",
            "o : 0\n",
            "u : 0\n"
          ]
        }
      ]
    }
  ]
}