{
  "nbformat": 4,
  "nbformat_minor": 0,
  "metadata": {
    "colab": {
      "provenance": [],
      "authorship_tag": "ABX9TyNvRWzSdFiwiAhyB6jefnQN",
      "include_colab_link": true
    },
    "kernelspec": {
      "name": "python3",
      "display_name": "Python 3"
    },
    "language_info": {
      "name": "python"
    }
  },
  "cells": [
    {
      "cell_type": "markdown",
      "metadata": {
        "id": "view-in-github",
        "colab_type": "text"
      },
      "source": [
        "<a href=\"https://colab.research.google.com/github/Harsh0166/python_practice/blob/main/print_elements_on_nth_level.ipynb\" target=\"_parent\"><img src=\"https://colab.research.google.com/assets/colab-badge.svg\" alt=\"Open In Colab\"/></a>"
      ]
    },
    {
      "cell_type": "code",
      "execution_count": 22,
      "metadata": {
        "id": "JgFg4r3LQmZe"
      },
      "outputs": [],
      "source": [
        "class node:\n",
        "  def __init__(self,value):\n",
        "    self.val = value\n",
        "    self.left = None\n",
        "    self.right = None\n",
        "\n",
        "root = node(1)  #0\n",
        "root.left = node(2)  #1\n",
        "root.right = node(3)  #1\n",
        "root.left.left = node(4)  #2\n",
        "root.left.right = node(5)  #2\n",
        "root.right.right = node(6)  #2\n",
        "\n",
        "# def display(root):\n",
        "#   if root is None:\n",
        "#     return None\n",
        "#   print(root.val, end=\" \")\n",
        "#   display(root.left)\n",
        "#   display(root.right)\n",
        "\n",
        "# display(root)"
      ]
    },
    {
      "cell_type": "code",
      "source": [
        "from collections import deque\n",
        "\n",
        "def nth_level(root,n):\n",
        "  if root is None:\n",
        "    return\n",
        "  queue = deque([root])\n",
        "  level = 0\n",
        "\n",
        "  while queue:\n",
        "    length = len(queue)\n",
        "\n",
        "    if level == n:\n",
        "      print(f\"level : {level}\")\n",
        "      print(\"elements :\")\n",
        "      for i in range(length):\n",
        "        node = queue.popleft()\n",
        "        print(node.val, end=\" \")\n",
        "      return\n",
        "\n",
        "    for j in range(length):\n",
        "      node = queue.popleft()\n",
        "      if node.left:\n",
        "        queue.append(node.left)\n",
        "      if node.right:\n",
        "        queue.append(node.right)\n",
        "\n",
        "    level += 1\n",
        "\n",
        "  print(\"level not fount\")\n",
        "\n",
        "nth_level(root,1)"
      ],
      "metadata": {
        "colab": {
          "base_uri": "https://localhost:8080/"
        },
        "id": "GPJ4DhH8RCjM",
        "outputId": "038e9d48-2a59-4b62-d9f9-b58ffdb939f0"
      },
      "execution_count": 25,
      "outputs": [
        {
          "output_type": "stream",
          "name": "stdout",
          "text": [
            "level : 1\n",
            "elements :\n",
            "2 3 "
          ]
        }
      ]
    }
  ]
}