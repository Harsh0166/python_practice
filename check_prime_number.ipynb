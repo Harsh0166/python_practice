{
  "nbformat": 4,
  "nbformat_minor": 0,
  "metadata": {
    "colab": {
      "provenance": [],
      "authorship_tag": "ABX9TyP7LzgSu9SxfcjhTGuW15JJ",
      "include_colab_link": true
    },
    "kernelspec": {
      "name": "python3",
      "display_name": "Python 3"
    },
    "language_info": {
      "name": "python"
    }
  },
  "cells": [
    {
      "cell_type": "markdown",
      "metadata": {
        "id": "view-in-github",
        "colab_type": "text"
      },
      "source": [
        "<a href=\"https://colab.research.google.com/github/Harsh0166/python_practice/blob/main/check_prime_number.ipynb\" target=\"_parent\"><img src=\"https://colab.research.google.com/assets/colab-badge.svg\" alt=\"Open In Colab\"/></a>"
      ]
    },
    {
      "cell_type": "code",
      "execution_count": 54,
      "metadata": {
        "colab": {
          "base_uri": "https://localhost:8080/"
        },
        "id": "5V1q7d6tFKLy",
        "outputId": "941b9f60-9a17-4095-babc-21b407598bb1"
      },
      "outputs": [
        {
          "output_type": "stream",
          "name": "stdout",
          "text": [
            "enter the  number : -1\n",
            "not a prime no.\n"
          ]
        }
      ],
      "source": [
        "a = int(input(\"enter the  number : \"))\n",
        "if a <= 1:\n",
        "  print(\"not a prime no.\")\n",
        "if a > 1:\n",
        "  for i in range(2,a):\n",
        "    if a%i ==0:\n",
        "      print(\"not a prime no.\")\n",
        "      break\n",
        "  else:\n",
        "    print(\"prime no.\")\n",
        ""
      ]
    }
  ]
}