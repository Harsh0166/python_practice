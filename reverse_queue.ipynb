{
  "nbformat": 4,
  "nbformat_minor": 0,
  "metadata": {
    "colab": {
      "provenance": [],
      "authorship_tag": "ABX9TyP9sdMZ0xMQ72PH8Fq9POIX",
      "include_colab_link": true
    },
    "kernelspec": {
      "name": "python3",
      "display_name": "Python 3"
    },
    "language_info": {
      "name": "python"
    }
  },
  "cells": [
    {
      "cell_type": "markdown",
      "metadata": {
        "id": "view-in-github",
        "colab_type": "text"
      },
      "source": [
        "<a href=\"https://colab.research.google.com/github/Harsh0166/python_practice/blob/main/reverse_queue.ipynb\" target=\"_parent\"><img src=\"https://colab.research.google.com/assets/colab-badge.svg\" alt=\"Open In Colab\"/></a>"
      ]
    },
    {
      "cell_type": "code",
      "source": [
        "from collections import deque\n",
        "def rev_queue(element):\n",
        "  queue = deque()\n",
        "  for i in element:\n",
        "    queue.append(i)\n",
        "  print(queue)\n",
        "\n",
        "  stack = []\n",
        "  while len(queue) != 0 :\n",
        "    stack.append(queue.popleft())\n",
        "  while len(stack) != 0 :\n",
        "      queue.append(stack.pop())\n",
        "  print(queue)\n",
        "\n",
        "rev_queue([1,2,3,4,5])"
      ],
      "metadata": {
        "colab": {
          "base_uri": "https://localhost:8080/"
        },
        "id": "rznuS_Oradad",
        "outputId": "caae58f6-d6c5-4813-f263-d3484ea0ff36"
      },
      "execution_count": 24,
      "outputs": [
        {
          "output_type": "stream",
          "name": "stdout",
          "text": [
            "deque([1, 2, 3, 4, 5])\n",
            "deque([5, 4, 3, 2, 1])\n"
          ]
        }
      ]
    }
  ]
}