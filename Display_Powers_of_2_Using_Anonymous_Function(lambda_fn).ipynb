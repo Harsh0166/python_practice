{
  "nbformat": 4,
  "nbformat_minor": 0,
  "metadata": {
    "colab": {
      "provenance": [],
      "authorship_tag": "ABX9TyNRL1FDI6W/el0XOAqWPwUI",
      "include_colab_link": true
    },
    "kernelspec": {
      "name": "python3",
      "display_name": "Python 3"
    },
    "language_info": {
      "name": "python"
    }
  },
  "cells": [
    {
      "cell_type": "markdown",
      "metadata": {
        "id": "view-in-github",
        "colab_type": "text"
      },
      "source": [
        "<a href=\"https://colab.research.google.com/github/Harsh0166/python_practice/blob/main/Display_Powers_of_2_Using_Anonymous_Function(lambda_fn).ipynb\" target=\"_parent\"><img src=\"https://colab.research.google.com/assets/colab-badge.svg\" alt=\"Open In Colab\"/></a>"
      ]
    },
    {
      "cell_type": "code",
      "source": [
        "pow = lambda a,b : a**b\n",
        "\n",
        "num = int(input(\"enter the number : \"))\n",
        "for i in range(0,num + 1):\n",
        "  print(f\"2^{i} : \",pow(2,i))"
      ],
      "metadata": {
        "colab": {
          "base_uri": "https://localhost:8080/"
        },
        "id": "BbcXiuGJIMRR",
        "outputId": "82134b6d-e830-4b93-85df-7c36d2dcee06"
      },
      "execution_count": 8,
      "outputs": [
        {
          "output_type": "stream",
          "name": "stdout",
          "text": [
            "enter the number : 5\n",
            "2^0 :  1\n",
            "2^1 :  2\n",
            "2^2 :  4\n",
            "2^3 :  8\n",
            "2^4 :  16\n",
            "2^5 :  32\n"
          ]
        }
      ]
    }
  ]
}