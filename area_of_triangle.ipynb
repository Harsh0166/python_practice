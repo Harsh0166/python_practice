{
  "nbformat": 4,
  "nbformat_minor": 0,
  "metadata": {
    "colab": {
      "provenance": [],
      "authorship_tag": "ABX9TyPNpArSP/kNaHGo2oMHMh2R",
      "include_colab_link": true
    },
    "kernelspec": {
      "name": "python3",
      "display_name": "Python 3"
    },
    "language_info": {
      "name": "python"
    }
  },
  "cells": [
    {
      "cell_type": "markdown",
      "metadata": {
        "id": "view-in-github",
        "colab_type": "text"
      },
      "source": [
        "<a href=\"https://colab.research.google.com/github/Harsh0166/python_practice/blob/main/area_of_triangle.ipynb\" target=\"_parent\"><img src=\"https://colab.research.google.com/assets/colab-badge.svg\" alt=\"Open In Colab\"/></a>"
      ]
    },
    {
      "cell_type": "code",
      "execution_count": 24,
      "metadata": {
        "colab": {
          "base_uri": "https://localhost:8080/"
        },
        "id": "5V1q7d6tFKLy",
        "outputId": "210d32c0-f89c-4396-d030-2a931343aab3"
      },
      "outputs": [
        {
          "output_type": "stream",
          "name": "stdout",
          "text": [
            "a :  7\n",
            "b :  5\n"
          ]
        }
      ],
      "source": [
        "a = 5\n",
        "b = 7\n",
        "temp = 0\n",
        "\n",
        "a,b = b,a\n",
        "\n",
        "print(\"a : \", a)\n",
        "print(\"b : \",b)"
      ]
    },
    {
      "cell_type": "code",
      "source": [
        "a = 5\n",
        "b = 7\n",
        "temp = 0\n",
        "\n",
        "temp = b\n",
        "b = a\n",
        "a = temp\n",
        "\n",
        "print(\"a : \", a)\n",
        "print(\"b : \",b)"
      ],
      "metadata": {
        "colab": {
          "base_uri": "https://localhost:8080/"
        },
        "id": "zxB2JYSlP_gm",
        "outputId": "ff290786-5c6e-4f8d-c21e-081d2aa22d66"
      },
      "execution_count": 25,
      "outputs": [
        {
          "output_type": "stream",
          "name": "stdout",
          "text": [
            "a :  7\n",
            "b :  5\n"
          ]
        }
      ]
    }
  ]
}