{
  "nbformat": 4,
  "nbformat_minor": 0,
  "metadata": {
    "colab": {
      "provenance": [],
      "authorship_tag": "ABX9TyMiBKesFy9b7gFjNxmabAID",
      "include_colab_link": true
    },
    "kernelspec": {
      "name": "python3",
      "display_name": "Python 3"
    },
    "language_info": {
      "name": "python"
    }
  },
  "cells": [
    {
      "cell_type": "markdown",
      "metadata": {
        "id": "view-in-github",
        "colab_type": "text"
      },
      "source": [
        "<a href=\"https://colab.research.google.com/github/Harsh0166/python_practice/blob/main/add_two_numbers.ipynb\" target=\"_parent\"><img src=\"https://colab.research.google.com/assets/colab-badge.svg\" alt=\"Open In Colab\"/></a>"
      ]
    },
    {
      "cell_type": "code",
      "execution_count": 4,
      "metadata": {
        "colab": {
          "base_uri": "https://localhost:8080/"
        },
        "id": "5V1q7d6tFKLy",
        "outputId": "ed11f292-20f8-4011-d592-7f7381f9a9b7"
      },
      "outputs": [
        {
          "output_type": "stream",
          "name": "stdout",
          "text": [
            "sum = 10.5\n"
          ]
        }
      ],
      "source": [
        "a = 5.5\n",
        "b = 5\n",
        "print(\"sum =\",a+b)"
      ]
    },
    {
      "cell_type": "code",
      "source": [
        "a = float(input(\"enter first number = \"))\n",
        "b = float(input(\"enter second number = \"))\n",
        "print(\"sum = \",a+b)"
      ],
      "metadata": {
        "colab": {
          "base_uri": "https://localhost:8080/"
        },
        "id": "1zejfWBTGMPV",
        "outputId": "12172fab-a400-45a7-ae18-3258e68f4a1a"
      },
      "execution_count": 6,
      "outputs": [
        {
          "output_type": "stream",
          "name": "stdout",
          "text": [
            "enter first number =5.5\n",
            "enter second number = 5\n",
            "sum =  10.5\n"
          ]
        }
      ]
    }
  ]
}