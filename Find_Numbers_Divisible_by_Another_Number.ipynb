{
  "nbformat": 4,
  "nbformat_minor": 0,
  "metadata": {
    "colab": {
      "provenance": [],
      "authorship_tag": "ABX9TyPvy4nJRnDXhcv/oNqPB68o",
      "include_colab_link": true
    },
    "kernelspec": {
      "name": "python3",
      "display_name": "Python 3"
    },
    "language_info": {
      "name": "python"
    }
  },
  "cells": [
    {
      "cell_type": "markdown",
      "metadata": {
        "id": "view-in-github",
        "colab_type": "text"
      },
      "source": [
        "<a href=\"https://colab.research.google.com/github/Harsh0166/python_practice/blob/main/Find_Numbers_Divisible_by_Another_Number.ipynb\" target=\"_parent\"><img src=\"https://colab.research.google.com/assets/colab-badge.svg\" alt=\"Open In Colab\"/></a>"
      ]
    },
    {
      "cell_type": "code",
      "source": [
        "num1 = int(input(\"enter the number\"))\n",
        "num2 = int(input(\"enter the ending no.\"))\n",
        "for i in range(1,num2):\n",
        "  if i % num1 == 0:\n",
        "    print(f\"{i} is divisible by {num1}\")\n"
      ],
      "metadata": {
        "colab": {
          "base_uri": "https://localhost:8080/"
        },
        "id": "BbcXiuGJIMRR",
        "outputId": "de1e7170-f75d-42ac-babf-573c8e2ac31a"
      },
      "execution_count": 14,
      "outputs": [
        {
          "output_type": "stream",
          "name": "stdout",
          "text": [
            "enter the number13\n",
            "enter the ending no.100\n",
            "13 is divisible by 13\n",
            "26 is divisible by 13\n",
            "39 is divisible by 13\n",
            "52 is divisible by 13\n",
            "65 is divisible by 13\n",
            "78 is divisible by 13\n",
            "91 is divisible by 13\n"
          ]
        }
      ]
    }
  ]
}