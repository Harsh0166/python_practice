{
  "nbformat": 4,
  "nbformat_minor": 0,
  "metadata": {
    "colab": {
      "provenance": [],
      "authorship_tag": "ABX9TyPE1kFh6Eh6JCit7eeJh5qO",
      "include_colab_link": true
    },
    "kernelspec": {
      "name": "python3",
      "display_name": "Python 3"
    },
    "language_info": {
      "name": "python"
    }
  },
  "cells": [
    {
      "cell_type": "markdown",
      "metadata": {
        "id": "view-in-github",
        "colab_type": "text"
      },
      "source": [
        "<a href=\"https://colab.research.google.com/github/Harsh0166/python_practice/blob/main/celsius_to_fahrenheit.ipynb\" target=\"_parent\"><img src=\"https://colab.research.google.com/assets/colab-badge.svg\" alt=\"Open In Colab\"/></a>"
      ]
    },
    {
      "cell_type": "code",
      "execution_count": 32,
      "metadata": {
        "colab": {
          "base_uri": "https://localhost:8080/"
        },
        "id": "5V1q7d6tFKLy",
        "outputId": "e40cc550-6896-4f00-addd-649978c48c39"
      },
      "outputs": [
        {
          "output_type": "stream",
          "name": "stdout",
          "text": [
            "enter the temperature in celsius : 1.5\n",
            "temperature in fahrenheit : 34.7\n"
          ]
        }
      ],
      "source": [
        "c_temp = float(input(\"enter the temperature in celsius : \"))\n",
        "f_temp = c_temp * 1.8 +32\n",
        "print(\"temperature in fahrenheit :\",f_temp)"
      ]
    }
  ]
}