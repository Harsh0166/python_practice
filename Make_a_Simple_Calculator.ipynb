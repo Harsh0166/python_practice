{
  "nbformat": 4,
  "nbformat_minor": 0,
  "metadata": {
    "colab": {
      "provenance": [],
      "authorship_tag": "ABX9TyNJsbd+Q6zhKq4jWcPcPSct",
      "include_colab_link": true
    },
    "kernelspec": {
      "name": "python3",
      "display_name": "Python 3"
    },
    "language_info": {
      "name": "python"
    }
  },
  "cells": [
    {
      "cell_type": "markdown",
      "metadata": {
        "id": "view-in-github",
        "colab_type": "text"
      },
      "source": [
        "<a href=\"https://colab.research.google.com/github/Harsh0166/python_practice/blob/main/Make_a_Simple_Calculator.ipynb\" target=\"_parent\"><img src=\"https://colab.research.google.com/assets/colab-badge.svg\" alt=\"Open In Colab\"/></a>"
      ]
    },
    {
      "cell_type": "code",
      "execution_count": 5,
      "metadata": {
        "colab": {
          "base_uri": "https://localhost:8080/"
        },
        "id": "8jeKsGzurvWG",
        "outputId": "3e583dbc-ede4-43ee-995e-b49bade0e17f"
      },
      "outputs": [
        {
          "output_type": "stream",
          "name": "stdout",
          "text": [
            "enter the first number : 3\n",
            "enter the second number : 3\n",
            "enter the operation (+,-,*,/) : %\n",
            "invalid operation\n"
          ]
        }
      ],
      "source": [
        "num1 = int(input(\"enter the first number : \"))\n",
        "num2 = int(input(\"enter the second number : \"))\n",
        "opt = input(\"enter the operation (+,-,*,/) : \")\n",
        "\n",
        "if opt == \"+\":\n",
        "  print(\"addition :\", num1 + num2)\n",
        "elif opt == \"-\":\n",
        "  print(\"substraction :\", num1 - num2)\n",
        "elif opt == \"*\":\n",
        "  print(\"multiplication :\", num1 * num2)\n",
        "elif opt == \"/\" :\n",
        "  print(\"division :\", num1 / num2)\n",
        "else:\n",
        "  print(\"invalid operation\")\n"
      ]
    }
  ]
}