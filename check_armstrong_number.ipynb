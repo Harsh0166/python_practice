{
  "nbformat": 4,
  "nbformat_minor": 0,
  "metadata": {
    "colab": {
      "provenance": [],
      "authorship_tag": "ABX9TyOHWR+osi9kXs2OOxdCZlin",
      "include_colab_link": true
    },
    "kernelspec": {
      "name": "python3",
      "display_name": "Python 3"
    },
    "language_info": {
      "name": "python"
    }
  },
  "cells": [
    {
      "cell_type": "markdown",
      "metadata": {
        "id": "view-in-github",
        "colab_type": "text"
      },
      "source": [
        "<a href=\"https://colab.research.google.com/github/Harsh0166/python_practice/blob/main/check_armstrong_number.ipynb\" target=\"_parent\"><img src=\"https://colab.research.google.com/assets/colab-badge.svg\" alt=\"Open In Colab\"/></a>"
      ]
    },
    {
      "cell_type": "code",
      "source": [
        "# li = list(str(input(\"enter the number : \")))\n",
        "e_num = input(\"enter the no. : \")\n",
        "# print(len(e_num))\n",
        "length = len(e_num)\n",
        "a=0\n",
        "num = int(e_num)\n",
        "for i in range(0,length):\n",
        "  a = a + (int(e_num[i]) ** length)\n",
        "# print(a)        #print after calculation\n",
        "# num = int(\"\".join(li))\n",
        "\n",
        "if (num == a):\n",
        "  print(\"no. is armstrong\")\n",
        "else:\n",
        "  print(\"no. is not armstrong\")"
      ],
      "metadata": {
        "colab": {
          "base_uri": "https://localhost:8080/"
        },
        "id": "i6QTetFfIy_-",
        "outputId": "a5385241-ce1f-431e-b4ef-b80f0c5033c7"
      },
      "execution_count": 112,
      "outputs": [
        {
          "output_type": "stream",
          "name": "stdout",
          "text": [
            "enter the no. : 153\n",
            "no. is armstrong\n"
          ]
        }
      ]
    },
    {
      "cell_type": "code",
      "source": [
        "num = input(\"enter the number : \")\n",
        "e_num = int(num)\n",
        "length = len(num)\n",
        "a = 0\n",
        "while (e_num>0):\n",
        "  digit = e_num % 10\n",
        "  power = digit**length\n",
        "  a = a + power\n",
        "  e_num //= 10  #Removes the last digit from e_num\n",
        "\n",
        "if(a == int(num)):\n",
        "  print(\"no. is armstrong\")\n",
        "\n",
        "else:\n",
        "  print(\"no. is not armstrong\")"
      ],
      "metadata": {
        "colab": {
          "base_uri": "https://localhost:8080/"
        },
        "id": "feOhywQhVRRx",
        "outputId": "07b6d314-909b-44b1-f369-85008c03f7e0"
      },
      "execution_count": 2,
      "outputs": [
        {
          "output_type": "stream",
          "name": "stdout",
          "text": [
            "enter the number : 153\n",
            "no. is armstrong\n"
          ]
        }
      ]
    }
  ]
}