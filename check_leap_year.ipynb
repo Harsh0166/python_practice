{
  "nbformat": 4,
  "nbformat_minor": 0,
  "metadata": {
    "colab": {
      "provenance": [],
      "authorship_tag": "ABX9TyPh4fo3ulcb0u9eRqlJrNku",
      "include_colab_link": true
    },
    "kernelspec": {
      "name": "python3",
      "display_name": "Python 3"
    },
    "language_info": {
      "name": "python"
    }
  },
  "cells": [
    {
      "cell_type": "markdown",
      "metadata": {
        "id": "view-in-github",
        "colab_type": "text"
      },
      "source": [
        "<a href=\"https://colab.research.google.com/github/Harsh0166/python_practice/blob/main/check_leap_year.ipynb\" target=\"_parent\"><img src=\"https://colab.research.google.com/assets/colab-badge.svg\" alt=\"Open In Colab\"/></a>"
      ]
    },
    {
      "cell_type": "code",
      "execution_count": 47,
      "metadata": {
        "colab": {
          "base_uri": "https://localhost:8080/"
        },
        "id": "5V1q7d6tFKLy",
        "outputId": "c9997d26-885c-4aa7-d397-95b022d4ad99"
      },
      "outputs": [
        {
          "output_type": "stream",
          "name": "stdout",
          "text": [
            "enter the year : 2100\n",
            "not a leap year\n"
          ]
        }
      ],
      "source": [
        "year = int(input(\"enter the year : \"))\n",
        "if year % 400 == 0 :\n",
        "  print(\"leap year\")\n",
        "elif year % 4 == 0 and year % 100 != 0:\n",
        "  print(\"leap year\")\n",
        "else :\n",
        "  print(\"not a leap year\")"
      ]
    },
    {
      "cell_type": "code",
      "source": [
        "year = int(input(\"enter the year : \"))\n",
        "result = \"leap year\" if (year % 400 == 0) or (year % 4 == 0 and year % 100 != 0) else \"not a leap year\"\n",
        "print(result)"
      ],
      "metadata": {
        "colab": {
          "base_uri": "https://localhost:8080/"
        },
        "id": "5ahTwi4fxjJN",
        "outputId": "e05ff476-42ad-4317-849e-c4797fbbe4bd"
      },
      "execution_count": 51,
      "outputs": [
        {
          "output_type": "stream",
          "name": "stdout",
          "text": [
            "enter the year : 2000\n",
            "leap year\n"
          ]
        }
      ]
    }
  ]
}