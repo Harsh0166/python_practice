{
  "nbformat": 4,
  "nbformat_minor": 0,
  "metadata": {
    "colab": {
      "provenance": [],
      "authorship_tag": "ABX9TyMAGBVnGKOrGgO26GkgU36D",
      "include_colab_link": true
    },
    "kernelspec": {
      "name": "python3",
      "display_name": "Python 3"
    },
    "language_info": {
      "name": "python"
    }
  },
  "cells": [
    {
      "cell_type": "markdown",
      "metadata": {
        "id": "view-in-github",
        "colab_type": "text"
      },
      "source": [
        "<a href=\"https://colab.research.google.com/github/Harsh0166/python_practice/blob/main/diameter_of_the_tree.ipynb\" target=\"_parent\"><img src=\"https://colab.research.google.com/assets/colab-badge.svg\" alt=\"Open In Colab\"/></a>"
      ]
    },
    {
      "cell_type": "code",
      "source": [
        "from typing import Optional\n",
        "class node:\n",
        "  def __init__(self,val,left=None,right =None):\n",
        "    self.val = val\n",
        "    self.left = left\n",
        "    self.right = right\n",
        "\n",
        "root = node(1)\n",
        "root.left = node(2)\n",
        "root.right = node(3)\n",
        "root.left.left = node(4)\n",
        "root.left.right = node(5)\n",
        "\n",
        "def diameteroftree(root:Optional[\"node\"]):\n",
        "  diameter=0\n",
        "  def depth(node):\n",
        "    nonlocal diameter\n",
        "    if node is None:\n",
        "      return 0\n",
        "\n",
        "    left = depth(node.left)\n",
        "    right = depth(node.right)\n",
        "\n",
        "    diameter = max(diameter,left + right)\n",
        "\n",
        "    return max(left,right) + 1\n",
        "\n",
        "  depth(root)\n",
        "  return diameter\n",
        "\n",
        "diameteroftree(root)"
      ],
      "metadata": {
        "colab": {
          "base_uri": "https://localhost:8080/"
        },
        "id": "kF7SuZP7F48f",
        "outputId": "b413b91d-e2ff-4b9e-9432-03b48b2cca9c"
      },
      "execution_count": 6,
      "outputs": [
        {
          "output_type": "execute_result",
          "data": {
            "text/plain": [
              "3"
            ]
          },
          "metadata": {},
          "execution_count": 6
        }
      ]
    }
  ]
}