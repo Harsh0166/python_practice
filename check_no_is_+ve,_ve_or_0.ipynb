{
  "nbformat": 4,
  "nbformat_minor": 0,
  "metadata": {
    "colab": {
      "provenance": [],
      "authorship_tag": "ABX9TyMXXHvgeG523pIOakNJg54X",
      "include_colab_link": true
    },
    "kernelspec": {
      "name": "python3",
      "display_name": "Python 3"
    },
    "language_info": {
      "name": "python"
    }
  },
  "cells": [
    {
      "cell_type": "markdown",
      "metadata": {
        "id": "view-in-github",
        "colab_type": "text"
      },
      "source": [
        "<a href=\"https://colab.research.google.com/github/Harsh0166/python_practice/blob/main/check_no_is_%2Bve%2C_ve_or_0.ipynb\" target=\"_parent\"><img src=\"https://colab.research.google.com/assets/colab-badge.svg\" alt=\"Open In Colab\"/></a>"
      ]
    },
    {
      "cell_type": "code",
      "execution_count": 12,
      "metadata": {
        "colab": {
          "base_uri": "https://localhost:8080/"
        },
        "id": "5V1q7d6tFKLy",
        "outputId": "40b463b5-41ec-4c5a-d337-87ffa782b8c6"
      },
      "outputs": [
        {
          "output_type": "stream",
          "name": "stdout",
          "text": [
            "enter the number : -0.2\n",
            "number is negative\n"
          ]
        }
      ],
      "source": [
        "num = float(input(\"enter the number : \"))\n",
        "if num > 0:\n",
        "  print(\"number is positive\")\n",
        "elif num < 0:\n",
        "  print(\"number is negative\")\n",
        "else:\n",
        "  print(\"number is zero\")"
      ]
    },
    {
      "cell_type": "code",
      "source": [
        "num = float(input(\"enter the number : \"))\n",
        "result = \" positive\" if num > 0 else \"negative\" if num < 0 else \"zero\"\n",
        "print(\"number is\",result)"
      ],
      "metadata": {
        "colab": {
          "base_uri": "https://localhost:8080/"
        },
        "id": "QyIRF4RjchW_",
        "outputId": "74260f4e-0f66-46e9-81d3-f15ddedd1c64"
      },
      "execution_count": 21,
      "outputs": [
        {
          "output_type": "stream",
          "name": "stdout",
          "text": [
            "enter the number : -2\n",
            "number is negative\n"
          ]
        }
      ]
    }
  ]
}