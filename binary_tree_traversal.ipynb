{
  "nbformat": 4,
  "nbformat_minor": 0,
  "metadata": {
    "colab": {
      "provenance": [],
      "authorship_tag": "ABX9TyOpedIzepbZsderjg7+9Zki",
      "include_colab_link": true
    },
    "kernelspec": {
      "name": "python3",
      "display_name": "Python 3"
    },
    "language_info": {
      "name": "python"
    }
  },
  "cells": [
    {
      "cell_type": "markdown",
      "metadata": {
        "id": "view-in-github",
        "colab_type": "text"
      },
      "source": [
        "<a href=\"https://colab.research.google.com/github/Harsh0166/python_practice/blob/main/binary_tree_traversal.ipynb\" target=\"_parent\"><img src=\"https://colab.research.google.com/assets/colab-badge.svg\" alt=\"Open In Colab\"/></a>"
      ]
    },
    {
      "cell_type": "code",
      "execution_count": 13,
      "metadata": {
        "colab": {
          "base_uri": "https://localhost:8080/"
        },
        "id": "P3hSxWDoRZ-t",
        "outputId": "4923a2c7-b06e-4db5-d4d7-2ab77588af22"
      },
      "outputs": [
        {
          "output_type": "stream",
          "name": "stdout",
          "text": [
            "1 2 4 5 3 6 "
          ]
        }
      ],
      "source": [
        "class node:\n",
        "  def __init__(self,value):\n",
        "    self.val = value\n",
        "    self.left = None\n",
        "    self.right = None\n",
        "\n",
        "root = node(1)\n",
        "root.left = node(2)\n",
        "root.right = node(3)\n",
        "root.left.left = node(4)\n",
        "root.left.right = node(5)\n",
        "root.right.right = node(6)\n",
        "\n",
        "def display(root):\n",
        "  if root is None:\n",
        "    return None\n",
        "  print(root.val, end=\" \")\n",
        "  display(root.left)\n",
        "  display(root.right)\n",
        "\n",
        "display(root)"
      ]
    },
    {
      "cell_type": "code",
      "source": [
        "def preorder(root):\n",
        "  if root is None:\n",
        "    return None\n",
        "  print(root.val, end=\" \")\n",
        "  preorder(root.left)\n",
        "  preorder(root.right)\n",
        "\n",
        "display(root)"
      ],
      "metadata": {
        "colab": {
          "base_uri": "https://localhost:8080/"
        },
        "id": "qyx9w-tZTWHP",
        "outputId": "fbd46eee-6ce5-45f8-f43b-118952228e34"
      },
      "execution_count": 10,
      "outputs": [
        {
          "output_type": "stream",
          "name": "stdout",
          "text": [
            "1 2 4 5 3 6 "
          ]
        }
      ]
    },
    {
      "cell_type": "code",
      "source": [
        "def inorder(root):\n",
        "  if root is None:\n",
        "    return None\n",
        "  inorder(root.left)\n",
        "  print(root.val, end=\" \")\n",
        "  inorder(root.right)\n",
        "\n",
        "inorder(root)"
      ],
      "metadata": {
        "colab": {
          "base_uri": "https://localhost:8080/"
        },
        "id": "kwUhDWFDUN_U",
        "outputId": "397b814e-8aaa-45e5-f4a5-cfb14ada4b88"
      },
      "execution_count": 8,
      "outputs": [
        {
          "output_type": "stream",
          "name": "stdout",
          "text": [
            "4 2 5 1 3 6 "
          ]
        }
      ]
    },
    {
      "cell_type": "code",
      "source": [
        "def postorder(root):\n",
        "  if root is None:\n",
        "    return None\n",
        "  postorder(root.left)\n",
        "  postorder(root.right)\n",
        "  print(root.val, end=\" \")\n",
        "\n",
        "postorder(root)"
      ],
      "metadata": {
        "colab": {
          "base_uri": "https://localhost:8080/"
        },
        "id": "0JStuE2hU1sB",
        "outputId": "0a06f1f4-e632-4601-d949-48bd87106727"
      },
      "execution_count": 9,
      "outputs": [
        {
          "output_type": "stream",
          "name": "stdout",
          "text": [
            "4 5 2 6 3 1 "
          ]
        }
      ]
    },
    {
      "cell_type": "code",
      "source": [
        "from collections import deque\n",
        "\n",
        "def bfs(root):\n",
        "  if root is None:\n",
        "    return None\n",
        "\n",
        "  queue = deque()\n",
        "  queue.append(root)\n",
        "\n",
        "  while queue:\n",
        "    node = queue.popleft()\n",
        "    print(node.val, end=\" \")\n",
        "    if node.left:\n",
        "      queue.append(node.left)\n",
        "    if node.right:\n",
        "      queue.append(node.right)\n",
        "\n",
        "bfs(root)"
      ],
      "metadata": {
        "colab": {
          "base_uri": "https://localhost:8080/"
        },
        "id": "j-glkgYxxpLt",
        "outputId": "cc7a2784-8194-483d-abe4-ef574ded13ed"
      },
      "execution_count": 18,
      "outputs": [
        {
          "output_type": "stream",
          "name": "stdout",
          "text": [
            "1 2 3 4 5 6 "
          ]
        }
      ]
    }
  ]
}