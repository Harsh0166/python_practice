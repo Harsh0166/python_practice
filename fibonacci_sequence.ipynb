{
  "nbformat": 4,
  "nbformat_minor": 0,
  "metadata": {
    "colab": {
      "provenance": [],
      "authorship_tag": "ABX9TyMxvL+iOjqYh3bnu30lcTgs",
      "include_colab_link": true
    },
    "kernelspec": {
      "name": "python3",
      "display_name": "Python 3"
    },
    "language_info": {
      "name": "python"
    }
  },
  "cells": [
    {
      "cell_type": "markdown",
      "metadata": {
        "id": "view-in-github",
        "colab_type": "text"
      },
      "source": [
        "<a href=\"https://colab.research.google.com/github/Harsh0166/python_practice/blob/main/fibonacci_sequence.ipynb\" target=\"_parent\"><img src=\"https://colab.research.google.com/assets/colab-badge.svg\" alt=\"Open In Colab\"/></a>"
      ]
    },
    {
      "cell_type": "code",
      "source": [
        "a = 0\n",
        "b = 1\n",
        "c = 0\n",
        "num = int(input(\"enter the number\"))\n",
        "print(a)\n",
        "print(b)\n",
        "for i in range(2,num):\n",
        "  c=a+b\n",
        "  a=b\n",
        "  b=c\n",
        "  print(c)"
      ],
      "metadata": {
        "id": "OEQRx3bO3TRo",
        "colab": {
          "base_uri": "https://localhost:8080/"
        },
        "outputId": "b6b84c82-e29e-4778-b057-da7d0c469bad"
      },
      "execution_count": 36,
      "outputs": [
        {
          "output_type": "stream",
          "name": "stdout",
          "text": [
            "enter the number7\n",
            "0\n",
            "1\n",
            "1\n",
            "2\n",
            "3\n",
            "5\n",
            "8\n"
          ]
        }
      ]
    }
  ]
}