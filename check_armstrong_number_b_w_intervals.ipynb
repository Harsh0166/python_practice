{
  "nbformat": 4,
  "nbformat_minor": 0,
  "metadata": {
    "colab": {
      "provenance": [],
      "authorship_tag": "ABX9TyMgYyrQfY1d7vfGJlkxz8sC",
      "include_colab_link": true
    },
    "kernelspec": {
      "name": "python3",
      "display_name": "Python 3"
    },
    "language_info": {
      "name": "python"
    }
  },
  "cells": [
    {
      "cell_type": "markdown",
      "metadata": {
        "id": "view-in-github",
        "colab_type": "text"
      },
      "source": [
        "<a href=\"https://colab.research.google.com/github/Harsh0166/python_practice/blob/main/check_armstrong_number_b_w_intervals.ipynb\" target=\"_parent\"><img src=\"https://colab.research.google.com/assets/colab-badge.svg\" alt=\"Open In Colab\"/></a>"
      ]
    },
    {
      "cell_type": "code",
      "source": [
        "num1 = int(input(\"enter the starting no. : \"))\n",
        "num2 = int(input(\"enter the ending no. : \"))\n",
        "\n",
        "for j in range(num1,num2):\n",
        "  b = str(j)\n",
        "  length = len(b)\n",
        "  # print(length)\n",
        "  a=0\n",
        "  for i in range(0,length):\n",
        "    a = a + (int(b[i]) ** length)\n",
        "  if (j == a):\n",
        "    print(\"no. is armstrong\",a)"
      ],
      "metadata": {
        "colab": {
          "base_uri": "https://localhost:8080/"
        },
        "id": "OAKWhp0E861z",
        "outputId": "dd116b72-b3e8-4661-e66d-de212bbe4e89"
      },
      "execution_count": 33,
      "outputs": [
        {
          "output_type": "stream",
          "name": "stdout",
          "text": [
            "enter the starting no. : 1\n",
            "enter the ending no. : 500\n",
            "no. is armstrong 1\n",
            "no. is armstrong 2\n",
            "no. is armstrong 3\n",
            "no. is armstrong 4\n",
            "no. is armstrong 5\n",
            "no. is armstrong 6\n",
            "no. is armstrong 7\n",
            "no. is armstrong 8\n",
            "no. is armstrong 9\n",
            "no. is armstrong 153\n",
            "no. is armstrong 370\n",
            "no. is armstrong 371\n",
            "no. is armstrong 407\n"
          ]
        }
      ]
    }
  ]
}