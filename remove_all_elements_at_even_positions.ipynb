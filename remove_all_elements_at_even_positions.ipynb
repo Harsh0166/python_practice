{
  "nbformat": 4,
  "nbformat_minor": 0,
  "metadata": {
    "colab": {
      "provenance": [],
      "authorship_tag": "ABX9TyNJXwS9krqtXhkaNLJ9KYqf",
      "include_colab_link": true
    },
    "kernelspec": {
      "name": "python3",
      "display_name": "Python 3"
    },
    "language_info": {
      "name": "python"
    }
  },
  "cells": [
    {
      "cell_type": "markdown",
      "metadata": {
        "id": "view-in-github",
        "colab_type": "text"
      },
      "source": [
        "<a href=\"https://colab.research.google.com/github/Harsh0166/python_practice/blob/main/remove_all_elements_at_even_positions.ipynb\" target=\"_parent\"><img src=\"https://colab.research.google.com/assets/colab-badge.svg\" alt=\"Open In Colab\"/></a>"
      ]
    },
    {
      "cell_type": "code",
      "source": [
        "# remove all elements at even positions (considering 0-based indexing), you will remove the elements at index: 0, 2, 4, 6.\n",
        "# Given input:\n",
        "# [1, 2, 3, 4, 5, 6, 7]\n",
        "\n",
        "# Output:\n",
        "# [2, 4, 6]\n",
        "\n",
        "from collections import deque\n",
        "\n",
        "queue1 = deque([10,20,30,40,50,60,70,80])\n",
        "queue2 = deque()\n",
        "index = 0\n",
        "for i in range(len(queue1)):\n",
        "  if i % 2 == 0:\n",
        "    queue1.append(queue1.popleft())\n",
        "    index += i\n",
        "  elif i%2 != 0:\n",
        "    queue2.append(queue1.popleft())\n",
        "print(queue2)\n",
        "print(queue1)"
      ],
      "metadata": {
        "colab": {
          "base_uri": "https://localhost:8080/"
        },
        "id": "hV2H5_FOwU9r",
        "outputId": "02b3fd78-74ab-463a-e0fc-a89915185985"
      },
      "execution_count": 10,
      "outputs": [
        {
          "output_type": "stream",
          "name": "stdout",
          "text": [
            "deque([20, 40, 60, 80])\n",
            "deque([10, 30, 50, 70])\n"
          ]
        }
      ]
    },
    {
      "cell_type": "code",
      "source": [
        "# remove all elements at even positions (considering 0-based indexing), you will remove the elements at index: 0, 2, 4, 6.\n",
        "# Given input:\n",
        "# [1, 2, 3, 4, 5, 6, 7]\n",
        "\n",
        "# Output:\n",
        "# [2, 4, 6]\n",
        "\n",
        "from collections import deque\n",
        "\n",
        "queue1 = deque([10, 20, 30, 40, 50, 60, 70])\n",
        "queue2 = deque()\n",
        "\n",
        "index = 0\n",
        "while queue1:\n",
        "    element = queue1.popleft()\n",
        "    if index % 2 != 0:\n",
        "        queue2.append(element)\n",
        "    index += 1\n",
        "\n",
        "print(queue2)\n"
      ],
      "metadata": {
        "colab": {
          "base_uri": "https://localhost:8080/"
        },
        "id": "Ym7pHcOxTF4w",
        "outputId": "c633436b-ae5c-4fbe-f44b-e4888c5d5207"
      },
      "execution_count": 26,
      "outputs": [
        {
          "output_type": "stream",
          "name": "stdout",
          "text": [
            "deque([20, 40, 60])\n"
          ]
        }
      ]
    }
  ]
}