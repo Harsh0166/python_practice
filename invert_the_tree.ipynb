{
  "nbformat": 4,
  "nbformat_minor": 0,
  "metadata": {
    "colab": {
      "provenance": [],
      "authorship_tag": "ABX9TyO8pfsww+CA0pASIXR3znIK",
      "include_colab_link": true
    },
    "kernelspec": {
      "name": "python3",
      "display_name": "Python 3"
    },
    "language_info": {
      "name": "python"
    }
  },
  "cells": [
    {
      "cell_type": "markdown",
      "metadata": {
        "id": "view-in-github",
        "colab_type": "text"
      },
      "source": [
        "<a href=\"https://colab.research.google.com/github/Harsh0166/python_practice/blob/main/invert_the_tree.ipynb\" target=\"_parent\"><img src=\"https://colab.research.google.com/assets/colab-badge.svg\" alt=\"Open In Colab\"/></a>"
      ]
    },
    {
      "cell_type": "code",
      "source": [
        "from typing import Optional\n",
        "class node:\n",
        "  def __init__(self,val,left=None,right =None):\n",
        "    self.val = val\n",
        "    self.left = left\n",
        "    self.right = right\n",
        "\n",
        "root = node(1)\n",
        "root.left = node(2)\n",
        "root.right = node(3)\n",
        "root.left.left = node(4)\n",
        "root.left.right = node(5)\n",
        "\n",
        "def inverttree(root:Optional[\"node\"]):\n",
        "  if root is None:\n",
        "    return None\n",
        "\n",
        "  temp = root.left\n",
        "  root.left = root.right\n",
        "  root.right = temp\n",
        "\n",
        "  inverttree(root.left)\n",
        "  inverttree(root.right)\n",
        "\n",
        "\n",
        "def inorder(root):\n",
        "  if root is None:\n",
        "    return None\n",
        "  inorder(root.left)\n",
        "  print(root.val, end=\" \")\n",
        "  inorder(root.right)\n",
        "\n",
        "print(\"before invert\")\n",
        "inorder(root)\n",
        "\n",
        "inverttree(root)\n",
        "\n",
        "print(\"\\nafter invert\")\n",
        "inorder(root)"
      ],
      "metadata": {
        "colab": {
          "base_uri": "https://localhost:8080/"
        },
        "id": "kF7SuZP7F48f",
        "outputId": "e52a0f3a-ade4-4bd3-e4fb-79216e6998d9"
      },
      "execution_count": null,
      "outputs": [
        {
          "output_type": "stream",
          "name": "stdout",
          "text": [
            "before invert\n",
            "4 2 5 1 3 \n",
            "after invert\n",
            "3 1 5 2 4 "
          ]
        }
      ]
    }
  ]
}