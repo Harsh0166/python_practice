{
  "nbformat": 4,
  "nbformat_minor": 0,
  "metadata": {
    "colab": {
      "provenance": [],
      "authorship_tag": "ABX9TyPZBPeGU6ihrgxiPC6gIbmu",
      "include_colab_link": true
    },
    "kernelspec": {
      "name": "python3",
      "display_name": "Python 3"
    },
    "language_info": {
      "name": "python"
    }
  },
  "cells": [
    {
      "cell_type": "markdown",
      "metadata": {
        "id": "view-in-github",
        "colab_type": "text"
      },
      "source": [
        "<a href=\"https://colab.research.google.com/github/Harsh0166/python_practice/blob/main/infix_to_postfix.ipynb\" target=\"_parent\"><img src=\"https://colab.research.google.com/assets/colab-badge.svg\" alt=\"Open In Colab\"/></a>"
      ]
    },
    {
      "cell_type": "code",
      "source": [
        "def precedence(op):\n",
        "  if op in [\"+\",\"-\"]:\n",
        "    return 1\n",
        "  elif op in [\"*\",\"/\"]:\n",
        "    return 2\n",
        "  return 0\n",
        "\n",
        "def infix_to_postfix(experation):\n",
        "  stack = []\n",
        "  string = \"\"\n",
        "\n",
        "  for i in experation:\n",
        "    if precedence(i) == 0 and i not in \"()\":\n",
        "      string += i\n",
        "    elif i ==\"(\":\n",
        "      stack.append(i)\n",
        "    elif i == \")\":\n",
        "      while stack and stack[-1] != \"(\":\n",
        "        string += stack.pop()\n",
        "      stack.pop() #to remove (\n",
        "    else:\n",
        "      while stack and precedence(i) <= precedence(stack[-1]):\n",
        "        string += stack.pop()\n",
        "      else:\n",
        "        stack.append(i)\n",
        "  while stack:\n",
        "    string += stack.pop()\n",
        "\n",
        "  return string\n",
        "\n",
        "result = infix_to_postfix(\"(((a*(b+((c+d)*((e+f)/g))))*h)*u)\")\n",
        "print(result)\n"
      ],
      "metadata": {
        "colab": {
          "base_uri": "https://localhost:8080/"
        },
        "id": "Ju6eMucTC2On",
        "outputId": "af075ac5-102c-4aee-8cf8-6d5aab43e4f7"
      },
      "execution_count": 25,
      "outputs": [
        {
          "output_type": "stream",
          "name": "stdout",
          "text": [
            "abcd+ef+g/*+*h*u*\n"
          ]
        }
      ]
    }
  ]
}