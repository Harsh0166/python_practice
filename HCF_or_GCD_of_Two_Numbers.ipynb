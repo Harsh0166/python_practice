{
  "nbformat": 4,
  "nbformat_minor": 0,
  "metadata": {
    "colab": {
      "provenance": [],
      "authorship_tag": "ABX9TyP+l2SCheW4YCrVg+deb8ER",
      "include_colab_link": true
    },
    "kernelspec": {
      "name": "python3",
      "display_name": "Python 3"
    },
    "language_info": {
      "name": "python"
    }
  },
  "cells": [
    {
      "cell_type": "markdown",
      "metadata": {
        "id": "view-in-github",
        "colab_type": "text"
      },
      "source": [
        "<a href=\"https://colab.research.google.com/github/Harsh0166/python_practice/blob/main/HCF_or_GCD_of_Two_Numbers.ipynb\" target=\"_parent\"><img src=\"https://colab.research.google.com/assets/colab-badge.svg\" alt=\"Open In Colab\"/></a>"
      ]
    },
    {
      "cell_type": "code",
      "execution_count": 32,
      "metadata": {
        "colab": {
          "base_uri": "https://localhost:8080/"
        },
        "id": "8jeKsGzurvWG",
        "outputId": "2ab996fc-e45b-4eff-d1c8-7a8dc03158a8"
      },
      "outputs": [
        {
          "output_type": "stream",
          "name": "stdout",
          "text": [
            "enter the number : 35\n",
            "enter the number : 70\n",
            "35\n"
          ]
        }
      ],
      "source": [
        "num1 = int(input(\"enter the number : \"))\n",
        "num2 = int(input(\"enter the number : \"))\n",
        "\n",
        "if num1>num2:\n",
        "  small_num = num2\n",
        "else:\n",
        "  small_num = num1\n",
        "for i in range(1,small_num + 1):\n",
        "  if(num1 % i == 0) and (num2 % i == 0):\n",
        "    hcf = i\n",
        "print(hcf)\n"
      ]
    }
  ]
}