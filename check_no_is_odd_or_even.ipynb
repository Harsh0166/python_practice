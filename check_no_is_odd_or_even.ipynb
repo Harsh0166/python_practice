{
  "nbformat": 4,
  "nbformat_minor": 0,
  "metadata": {
    "colab": {
      "provenance": [],
      "authorship_tag": "ABX9TyNHe+aWd4LoWm8+ngncaoyL",
      "include_colab_link": true
    },
    "kernelspec": {
      "name": "python3",
      "display_name": "Python 3"
    },
    "language_info": {
      "name": "python"
    }
  },
  "cells": [
    {
      "cell_type": "markdown",
      "metadata": {
        "id": "view-in-github",
        "colab_type": "text"
      },
      "source": [
        "<a href=\"https://colab.research.google.com/github/Harsh0166/python_practice/blob/main/check_no_is_odd_or_even.ipynb\" target=\"_parent\"><img src=\"https://colab.research.google.com/assets/colab-badge.svg\" alt=\"Open In Colab\"/></a>"
      ]
    },
    {
      "cell_type": "code",
      "execution_count": 30,
      "metadata": {
        "colab": {
          "base_uri": "https://localhost:8080/"
        },
        "id": "5V1q7d6tFKLy",
        "outputId": "51f7ea47-0412-41cf-fb6f-90fc2773f961"
      },
      "outputs": [
        {
          "output_type": "stream",
          "name": "stdout",
          "text": [
            "enter the number : 4.4\n",
            "number is odd\n"
          ]
        }
      ],
      "source": [
        "num = float(input(\"enter the number : \"))\n",
        "if not(num % 2 == 0):\n",
        "  print(\"number is odd\")\n",
        "else:\n",
        "  print(\"number is even\")"
      ]
    },
    {
      "cell_type": "code",
      "source": [
        "num = float(input(\"enter the number : \"))\n",
        "result = \" odd\" if not(num % 2 == 0) else \"even\"\n",
        "print(\"number is\",result)"
      ],
      "metadata": {
        "colab": {
          "base_uri": "https://localhost:8080/"
        },
        "id": "QyIRF4RjchW_",
        "outputId": "0bcd857a-014a-4026-8df8-d3e6de2cf6fc"
      },
      "execution_count": 35,
      "outputs": [
        {
          "output_type": "stream",
          "name": "stdout",
          "text": [
            "enter the number : 77\n",
            "number is  odd\n"
          ]
        }
      ]
    }
  ]
}