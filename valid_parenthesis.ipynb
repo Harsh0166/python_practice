{
  "nbformat": 4,
  "nbformat_minor": 0,
  "metadata": {
    "colab": {
      "provenance": [],
      "authorship_tag": "ABX9TyOyfF2QDOjo449LQzYBdtsJ",
      "include_colab_link": true
    },
    "kernelspec": {
      "name": "python3",
      "display_name": "Python 3"
    },
    "language_info": {
      "name": "python"
    }
  },
  "cells": [
    {
      "cell_type": "markdown",
      "metadata": {
        "id": "view-in-github",
        "colab_type": "text"
      },
      "source": [
        "<a href=\"https://colab.research.google.com/github/Harsh0166/python_practice/blob/main/valid_parenthesis.ipynb\" target=\"_parent\"><img src=\"https://colab.research.google.com/assets/colab-badge.svg\" alt=\"Open In Colab\"/></a>"
      ]
    },
    {
      "cell_type": "code",
      "source": [
        "stack = []\n",
        "open_braces = [\"(\",\"{\",\"[\"]\n",
        "closed_braces = [\")\",\"}\",\"]\"]\n",
        "input_string = \"{{{({})}]\"\n",
        "\n",
        "valid = True\n",
        "\n",
        "for i in input_string:\n",
        "  if i in open_braces:\n",
        "    stack.append(i)\n",
        "\n",
        "  elif i in closed_braces:\n",
        "    if len(stack) == 0:\n",
        "      valid = False\n",
        "      break\n",
        "\n",
        "    index = closed_braces.index(i)\n",
        "\n",
        "    if open_braces[index] == stack[len(stack)-1]:\n",
        "      stack.pop()\n",
        "    else:\n",
        "      valid = False\n",
        "      break\n",
        "\n",
        "if valid  and  len(stack) == 0:\n",
        "  print(\"valid\")\n",
        "else:\n",
        "  print(\"not valid\")\n",
        "# print(stack)"
      ],
      "metadata": {
        "colab": {
          "base_uri": "https://localhost:8080/"
        },
        "id": "TdrJ1l9myNpC",
        "outputId": "785a124c-4714-4aa2-eed2-bc88245390e5"
      },
      "execution_count": 20,
      "outputs": [
        {
          "output_type": "stream",
          "name": "stdout",
          "text": [
            "not valid\n",
            "['{', '{']\n"
          ]
        }
      ]
    }
  ]
}