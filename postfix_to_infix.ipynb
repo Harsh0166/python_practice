{
  "nbformat": 4,
  "nbformat_minor": 0,
  "metadata": {
    "colab": {
      "provenance": [],
      "authorship_tag": "ABX9TyPMgkzu5VEBvp+CU/QmsRJj",
      "include_colab_link": true
    },
    "kernelspec": {
      "name": "python3",
      "display_name": "Python 3"
    },
    "language_info": {
      "name": "python"
    }
  },
  "cells": [
    {
      "cell_type": "markdown",
      "metadata": {
        "id": "view-in-github",
        "colab_type": "text"
      },
      "source": [
        "<a href=\"https://colab.research.google.com/github/Harsh0166/python_practice/blob/main/postfix_to_infix.ipynb\" target=\"_parent\"><img src=\"https://colab.research.google.com/assets/colab-badge.svg\" alt=\"Open In Colab\"/></a>"
      ]
    },
    {
      "cell_type": "code",
      "source": [
        "stack = []\n",
        "operators = set([\"+\",\"-\",\"*\",\"/\"])\n",
        "experation = \"abcd+ef+g/*+*h*u*\"\n",
        "\n",
        "for i in experation:\n",
        "  if i not in operators:\n",
        "    stack.append(i)\n",
        "  else:\n",
        "    operand1 = stack.pop()\n",
        "    operand2 = stack.pop()\n",
        "    stack.append(f\"( {operand2} {i} {operand1} )\")\n",
        "print(stack.pop())"
      ],
      "metadata": {
        "colab": {
          "base_uri": "https://localhost:8080/"
        },
        "id": "I66PQwAb0amj",
        "outputId": "c25f983a-07fc-43da-d18d-71c4ea02f959"
      },
      "execution_count": 16,
      "outputs": [
        {
          "output_type": "stream",
          "name": "stdout",
          "text": [
            "( ( ( a * ( b + ( ( c + d ) * ( ( e + f ) / g ) ) ) ) * h ) * u )\n"
          ]
        }
      ]
    }
  ]
}