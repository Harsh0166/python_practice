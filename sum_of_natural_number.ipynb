{
  "nbformat": 4,
  "nbformat_minor": 0,
  "metadata": {
    "colab": {
      "provenance": [],
      "authorship_tag": "ABX9TyNGC7X2t0ZZLodL4ie/vdxc",
      "include_colab_link": true
    },
    "kernelspec": {
      "name": "python3",
      "display_name": "Python 3"
    },
    "language_info": {
      "name": "python"
    }
  },
  "cells": [
    {
      "cell_type": "markdown",
      "metadata": {
        "id": "view-in-github",
        "colab_type": "text"
      },
      "source": [
        "<a href=\"https://colab.research.google.com/github/Harsh0166/python_practice/blob/main/sum_of_natural_number.ipynb\" target=\"_parent\"><img src=\"https://colab.research.google.com/assets/colab-badge.svg\" alt=\"Open In Colab\"/></a>"
      ]
    },
    {
      "cell_type": "code",
      "source": [
        "a = 0\n",
        "num1 = int(input(\"enter the starting no. \"))\n",
        "num2 = int(input(\"enter the ending no. \"))\n",
        "if(num1 <= 0):\n",
        "  print(\"enter natural no.\")\n",
        "else:\n",
        "  for i in range(num1,num2 + 1):\n",
        "    a = a+i\n",
        "  print(a)"
      ],
      "metadata": {
        "colab": {
          "base_uri": "https://localhost:8080/"
        },
        "id": "BbcXiuGJIMRR",
        "outputId": "9e6b1797-4fcd-4fbd-d05f-32f99bf4ea62"
      },
      "execution_count": 40,
      "outputs": [
        {
          "output_type": "stream",
          "name": "stdout",
          "text": [
            "enter the starting no. 1\n",
            "enter the ending no. 10\n",
            "55\n"
          ]
        }
      ]
    }
  ]
}