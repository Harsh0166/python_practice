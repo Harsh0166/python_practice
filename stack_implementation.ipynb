{
  "nbformat": 4,
  "nbformat_minor": 0,
  "metadata": {
    "colab": {
      "provenance": [],
      "authorship_tag": "ABX9TyOEnHIbUO5aCw9+zpM8EEBR",
      "include_colab_link": true
    },
    "kernelspec": {
      "name": "python3",
      "display_name": "Python 3"
    },
    "language_info": {
      "name": "python"
    }
  },
  "cells": [
    {
      "cell_type": "markdown",
      "metadata": {
        "id": "view-in-github",
        "colab_type": "text"
      },
      "source": [
        "<a href=\"https://colab.research.google.com/github/Harsh0166/python_practice/blob/main/stack_implementation.ipynb\" target=\"_parent\"><img src=\"https://colab.research.google.com/assets/colab-badge.svg\" alt=\"Open In Colab\"/></a>"
      ]
    },
    {
      "cell_type": "code",
      "source": [
        "class stack:\n",
        "  def __init__(self) -> None:\n",
        "    self.stack= []\n",
        "\n",
        "  def push(self,value):\n",
        "    self.stack.append(value)\n",
        "\n",
        "  def pop(self):\n",
        "    self.stack.pop()\n",
        "\n",
        "  def peep(self):\n",
        "    if not self.isEmpty():\n",
        "      return self.stack[-1]\n",
        "    return \"stack is empty\"\n",
        "\n",
        "  def isEmpty(self):\n",
        "    return len(self.stack) == 0\n",
        "\n",
        "\n",
        "stk = stack()\n",
        "stk.push(10)\n",
        "stk.push(5)\n",
        "stk.push(7)\n",
        "\n",
        "print(stk.stack)\n",
        "\n",
        "stk.pop()\n",
        "print(stk.stack)\n",
        "\n",
        "stk.peep()\n"
      ],
      "metadata": {
        "colab": {
          "base_uri": "https://localhost:8080/"
        },
        "id": "25MpMRw8xN1X",
        "outputId": "77cf1116-704e-4e3b-8990-0adaba3b53b4"
      },
      "execution_count": 8,
      "outputs": [
        {
          "output_type": "stream",
          "name": "stdout",
          "text": [
            "[10, 5, 7]\n",
            "[10, 5]\n"
          ]
        },
        {
          "output_type": "execute_result",
          "data": {
            "text/plain": [
              "5"
            ]
          },
          "metadata": {},
          "execution_count": 8
        }
      ]
    },
    {
      "cell_type": "code",
      "source": [],
      "metadata": {
        "id": "TdrJ1l9myNpC"
      },
      "execution_count": null,
      "outputs": []
    }
  ]
}