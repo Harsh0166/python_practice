{
  "nbformat": 4,
  "nbformat_minor": 0,
  "metadata": {
    "colab": {
      "provenance": [],
      "authorship_tag": "ABX9TyNeIexOUYH3FIc2+LdEw3T/",
      "include_colab_link": true
    },
    "kernelspec": {
      "name": "python3",
      "display_name": "Python 3"
    },
    "language_info": {
      "name": "python"
    }
  },
  "cells": [
    {
      "cell_type": "markdown",
      "metadata": {
        "id": "view-in-github",
        "colab_type": "text"
      },
      "source": [
        "<a href=\"https://colab.research.google.com/github/Harsh0166/python_practice/blob/main/Convert_Decimal_to_Binary%2C_Octal%2C_and_Hexadecimal.ipynb\" target=\"_parent\"><img src=\"https://colab.research.google.com/assets/colab-badge.svg\" alt=\"Open In Colab\"/></a>"
      ]
    },
    {
      "cell_type": "code",
      "source": [
        "num = int(input(\"enter the no. in decimal : \"))\n",
        "\n",
        "def binary(num):\n",
        "  list_b = []\n",
        "  for i in range(8):\n",
        "    rem = num%2\n",
        "    list_b.append(rem)\n",
        "    num = num//2\n",
        "    if num == 0:\n",
        "      break\n",
        "  list_b.reverse()\n",
        "  print(\"binary no :\",list_b)\n",
        "\n",
        "\n",
        "def octal(num):\n",
        "  list_o = []\n",
        "  for i in range(8):\n",
        "    rem = num%8\n",
        "    list_o.append(rem)\n",
        "    num = num//8\n",
        "    if num == 0:\n",
        "      break\n",
        "  list_o.reverse()\n",
        "  print(\"ocatal no :\",list_o)\n",
        "\n",
        "\n",
        "def hexadecimal(num):\n",
        "  list_h = []\n",
        "  for i in range(8):\n",
        "    rem = num%16\n",
        "    if rem <= 9 :\n",
        "      list_h.append(rem)\n",
        "    if rem > 9 :\n",
        "      for i in range(10,16):\n",
        "        if rem == i:\n",
        "          hex_letters = ['A', 'B', 'C', 'D', 'E', 'F']\n",
        "          list_h.append(hex_letters[rem - 10])\n",
        "    num = num//16\n",
        "    if num == 0:\n",
        "      break\n",
        "  list_h.reverse()\n",
        "  print(\"hexadecimal no :\",list_h)\n",
        "\n",
        "\n",
        "\n",
        "binary(num)\n",
        "octal(num)\n",
        "hexadecimal(num)\n",
        "\n"
      ],
      "metadata": {
        "colab": {
          "base_uri": "https://localhost:8080/"
        },
        "id": "8UpxWK9YMYIl",
        "outputId": "66584c09-b101-4f1b-ccb0-047492d1d409"
      },
      "execution_count": 15,
      "outputs": [
        {
          "output_type": "stream",
          "name": "stdout",
          "text": [
            "enter the no. in decimal : 12\n",
            "binary no : [1, 1, 0, 0]\n",
            "ocatal no : [1, 4]\n",
            "hexadecimal no : ['C']\n"
          ]
        }
      ]
    }
  ]
}