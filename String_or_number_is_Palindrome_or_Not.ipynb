{
  "nbformat": 4,
  "nbformat_minor": 0,
  "metadata": {
    "colab": {
      "provenance": [],
      "authorship_tag": "ABX9TyMaxOvyQSZlwlxngqUwy9sa",
      "include_colab_link": true
    },
    "kernelspec": {
      "name": "python3",
      "display_name": "Python 3"
    },
    "language_info": {
      "name": "python"
    }
  },
  "cells": [
    {
      "cell_type": "markdown",
      "metadata": {
        "id": "view-in-github",
        "colab_type": "text"
      },
      "source": [
        "<a href=\"https://colab.research.google.com/github/Harsh0166/python_practice/blob/main/String_or_number_is_Palindrome_or_Not.ipynb\" target=\"_parent\"><img src=\"https://colab.research.google.com/assets/colab-badge.svg\" alt=\"Open In Colab\"/></a>"
      ]
    },
    {
      "cell_type": "code",
      "source": [
        "data = input(\"enter word : \")\n",
        "li = list(data)\n",
        "\n",
        "for i in range(int(len(li)/2)):\n",
        "  if li[i] != li[len(li)-1-i]:\n",
        "    print(\"not palindrome\")\n",
        "    break\n",
        "else :\n",
        "  print(\"palindrome\")\n"
      ],
      "metadata": {
        "colab": {
          "base_uri": "https://localhost:8080/"
        },
        "id": "AkO7W5cnXOOh",
        "outputId": "3d7862c9-f36c-4120-9953-5bd534e5f16a"
      },
      "execution_count": 85,
      "outputs": [
        {
          "output_type": "stream",
          "name": "stdout",
          "text": [
            "enter word : amanaplanacanalpanama\n",
            "palindrome\n"
          ]
        }
      ]
    }
  ]
}