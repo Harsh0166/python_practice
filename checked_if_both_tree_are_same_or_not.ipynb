{
  "nbformat": 4,
  "nbformat_minor": 0,
  "metadata": {
    "colab": {
      "provenance": [],
      "authorship_tag": "ABX9TyOfZuN1xSH4Bw6LNsOEDppD",
      "include_colab_link": true
    },
    "kernelspec": {
      "name": "python3",
      "display_name": "Python 3"
    },
    "language_info": {
      "name": "python"
    }
  },
  "cells": [
    {
      "cell_type": "markdown",
      "metadata": {
        "id": "view-in-github",
        "colab_type": "text"
      },
      "source": [
        "<a href=\"https://colab.research.google.com/github/Harsh0166/python_practice/blob/main/checked_if_both_tree_are_same_or_not.ipynb\" target=\"_parent\"><img src=\"https://colab.research.google.com/assets/colab-badge.svg\" alt=\"Open In Colab\"/></a>"
      ]
    },
    {
      "cell_type": "code",
      "source": [
        "from typing import Optional\n",
        "class treenode:\n",
        "  def __init__(self, val = 0, left=None, right = None):\n",
        "    self.val = val\n",
        "    self.left = left\n",
        "    self.right = right\n",
        "\n",
        "class solution:\n",
        "  def is_tree_same(self, p:Optional[\"treenode\"],q:Optional[\"treenode\"]) ->bool:\n",
        "    if p is None and q is None:\n",
        "      return True\n",
        "    if p is None or q is None:\n",
        "      return False\n",
        "    if p.val != q.val:\n",
        "      return False\n",
        "\n",
        "    return self.is_tree_same(p.left,q.left) and self.is_tree_same(p.right,q.right)\n"
      ],
      "metadata": {
        "id": "kNXecshl_p2A"
      },
      "execution_count": 5,
      "outputs": []
    },
    {
      "cell_type": "code",
      "source": [
        "# Tree 1\n",
        "p = treenode(1)\n",
        "p.left = treenode(2)\n",
        "p.right = treenode(3)\n",
        "\n",
        "# Tree 2\n",
        "q = treenode(1)\n",
        "q.left = treenode(2)\n",
        "q.right = treenode(3y)\n",
        "\n",
        "s = solution()\n",
        "print(\"Are the trees the same?\", s.is_tree_same(p, q))"
      ],
      "metadata": {
        "colab": {
          "base_uri": "https://localhost:8080/"
        },
        "id": "1MWAymmrDhWl",
        "outputId": "f1dfc6b2-2d0f-4fa1-a24b-414d7872f80c"
      },
      "execution_count": 8,
      "outputs": [
        {
          "output_type": "stream",
          "name": "stdout",
          "text": [
            "Are the trees the same? True\n"
          ]
        }
      ]
    }
  ]
}