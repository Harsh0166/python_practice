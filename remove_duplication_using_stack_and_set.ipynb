{
  "nbformat": 4,
  "nbformat_minor": 0,
  "metadata": {
    "colab": {
      "provenance": [],
      "authorship_tag": "ABX9TyO3t2yWXvjz0fVxButre794",
      "include_colab_link": true
    },
    "kernelspec": {
      "name": "python3",
      "display_name": "Python 3"
    },
    "language_info": {
      "name": "python"
    }
  },
  "cells": [
    {
      "cell_type": "markdown",
      "metadata": {
        "id": "view-in-github",
        "colab_type": "text"
      },
      "source": [
        "<a href=\"https://colab.research.google.com/github/Harsh0166/python_practice/blob/main/remove_duplication_using_stack_and_set.ipynb\" target=\"_parent\"><img src=\"https://colab.research.google.com/assets/colab-badge.svg\" alt=\"Open In Colab\"/></a>"
      ]
    },
    {
      "cell_type": "code",
      "source": [
        "def removeDuplicate(input_str):\n",
        "    # set_input = set()\n",
        "    stack = []\n",
        "    input_string = input_str\n",
        "\n",
        "    for char in input_string:\n",
        "        if char not in stack:\n",
        "            stack.append(char)\n",
        "            # set_input.add(char)\n",
        "\n",
        "    return \"\".join(stack)\n",
        "\n",
        "input_str = input(\"enter the string : \")\n",
        "result = removeDuplicate(input_str)\n",
        "print(result)"
      ],
      "metadata": {
        "colab": {
          "base_uri": "https://localhost:8080/"
        },
        "id": "KXiheQ7ixyXu",
        "outputId": "8044d712-15cd-457c-a74b-37b60486d07c"
      },
      "execution_count": 25,
      "outputs": [
        {
          "output_type": "stream",
          "name": "stdout",
          "text": [
            "enter the string :aaaaaaaaaaaabbbbbbbbbbbbbbbbbccccccccccccccccccddddddddddddddddddddd\n",
            "abcd\n"
          ]
        }
      ]
    }
  ]
}