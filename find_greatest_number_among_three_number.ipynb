{
  "nbformat": 4,
  "nbformat_minor": 0,
  "metadata": {
    "colab": {
      "provenance": [],
      "authorship_tag": "ABX9TyP9eT8kE2RFPZGXi4EC1lfn",
      "include_colab_link": true
    },
    "kernelspec": {
      "name": "python3",
      "display_name": "Python 3"
    },
    "language_info": {
      "name": "python"
    }
  },
  "cells": [
    {
      "cell_type": "markdown",
      "metadata": {
        "id": "view-in-github",
        "colab_type": "text"
      },
      "source": [
        "<a href=\"https://colab.research.google.com/github/Harsh0166/python_practice/blob/main/find_greatest_number_among_three_number.ipynb\" target=\"_parent\"><img src=\"https://colab.research.google.com/assets/colab-badge.svg\" alt=\"Open In Colab\"/></a>"
      ]
    },
    {
      "cell_type": "code",
      "execution_count": 4,
      "metadata": {
        "colab": {
          "base_uri": "https://localhost:8080/"
        },
        "id": "5V1q7d6tFKLy",
        "outputId": "94d36dc8-ec33-4bfb-c3a4-925ce0b85d36"
      },
      "outputs": [
        {
          "output_type": "stream",
          "name": "stdout",
          "text": [
            "enter the  number : 4.5\n",
            "enter the  number : 4.6\n",
            "enter the  number : 4.1\n",
            "4.6\n"
          ]
        }
      ],
      "source": [
        "a = float(input(\"enter the  number : \"))\n",
        "b = float(input(\"enter the  number : \"))\n",
        "c = float(input(\"enter the  number : \"))\n",
        "\n",
        "if a > b and a>c :\n",
        "  print(a)\n",
        "elif b > c and b>a:\n",
        "  print(b)\n",
        "else :\n",
        "  print(c)"
      ]
    },
    {
      "cell_type": "code",
      "source": [
        "a = float(input(\"enter the  number : \"))\n",
        "b = float(input(\"enter the  number : \"))\n",
        "c = float(input(\"enter the  number : \"))\n",
        "result = a if a > b and a>c else b if b > c and b>a else c\n",
        "print(result)"
      ],
      "metadata": {
        "colab": {
          "base_uri": "https://localhost:8080/"
        },
        "id": "5ahTwi4fxjJN",
        "outputId": "b73ce582-fd41-406b-dc3f-d999d614b452"
      },
      "execution_count": 7,
      "outputs": [
        {
          "output_type": "stream",
          "name": "stdout",
          "text": [
            "enter the  number : -2\n",
            "enter the  number : -5\n",
            "enter the  number : 0\n",
            "0.0\n"
          ]
        }
      ]
    },
    {
      "cell_type": "code",
      "source": [
        "a,b,c = input(\"enter the numbers : \").split()\n",
        "if a > b and a>c :\n",
        "  print(a)\n",
        "elif b > c and b>a:\n",
        "  print(b)\n",
        "else :\n",
        "  print(c)"
      ],
      "metadata": {
        "colab": {
          "base_uri": "https://localhost:8080/"
        },
        "id": "pAVAwoosQxGf",
        "outputId": "02e91e20-d2d9-409c-8890-3873078b23b0"
      },
      "execution_count": 13,
      "outputs": [
        {
          "output_type": "stream",
          "name": "stdout",
          "text": [
            "enter the numbers : 5 90 9\n",
            "90\n"
          ]
        }
      ]
    }
  ]
}